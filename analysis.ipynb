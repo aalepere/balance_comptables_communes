{
 "cells": [
  {
   "cell_type": "code",
   "execution_count": 1,
   "metadata": {},
   "outputs": [],
   "source": [
    "import sqlite3\n",
    "import pandas as pd\n",
    "import matplotlib.pyplot as plt"
   ]
  },
  {
   "cell_type": "markdown",
   "metadata": {},
   "source": [
    "# Connection to DB"
   ]
  },
  {
   "cell_type": "code",
   "execution_count": 2,
   "metadata": {},
   "outputs": [],
   "source": [
    "con = sqlite3.connect('communes.db')"
   ]
  },
  {
   "cell_type": "markdown",
   "metadata": {},
   "source": [
    "# SQLs"
   ]
  },
  {
   "cell_type": "code",
   "execution_count": 3,
   "metadata": {},
   "outputs": [],
   "source": [
    "comptes_test = pd.read_sql_query(\"SELECT * FROM COMPTES LIMIT 10\", con)"
   ]
  },
  {
   "cell_type": "code",
   "execution_count": 4,
   "metadata": {},
   "outputs": [
    {
     "data": {
      "text/html": [
       "<div>\n",
       "<style scoped>\n",
       "    .dataframe tbody tr th:only-of-type {\n",
       "        vertical-align: middle;\n",
       "    }\n",
       "\n",
       "    .dataframe tbody tr th {\n",
       "        vertical-align: top;\n",
       "    }\n",
       "\n",
       "    .dataframe thead th {\n",
       "        text-align: right;\n",
       "    }\n",
       "</style>\n",
       "<table border=\"1\" class=\"dataframe\">\n",
       "  <thead>\n",
       "    <tr style=\"text-align: right;\">\n",
       "      <th></th>\n",
       "      <th>COMPTE</th>\n",
       "      <th>LIBELLE</th>\n",
       "    </tr>\n",
       "  </thead>\n",
       "  <tbody>\n",
       "    <tr>\n",
       "      <th>0</th>\n",
       "      <td>1</td>\n",
       "      <td>Comptes de capitaux</td>\n",
       "    </tr>\n",
       "    <tr>\n",
       "      <th>1</th>\n",
       "      <td>2</td>\n",
       "      <td>Comptes d'immobilisations</td>\n",
       "    </tr>\n",
       "    <tr>\n",
       "      <th>2</th>\n",
       "      <td>3</td>\n",
       "      <td>Comptes de stocks et en cours</td>\n",
       "    </tr>\n",
       "    <tr>\n",
       "      <th>3</th>\n",
       "      <td>4</td>\n",
       "      <td>Comptes de tiers</td>\n",
       "    </tr>\n",
       "    <tr>\n",
       "      <th>4</th>\n",
       "      <td>5</td>\n",
       "      <td>Comptes financiers</td>\n",
       "    </tr>\n",
       "    <tr>\n",
       "      <th>5</th>\n",
       "      <td>6</td>\n",
       "      <td>Comptes de charges</td>\n",
       "    </tr>\n",
       "    <tr>\n",
       "      <th>6</th>\n",
       "      <td>7</td>\n",
       "      <td>Comptes de produits</td>\n",
       "    </tr>\n",
       "    <tr>\n",
       "      <th>7</th>\n",
       "      <td>8</td>\n",
       "      <td>Comptes spéciaux</td>\n",
       "    </tr>\n",
       "    <tr>\n",
       "      <th>8</th>\n",
       "      <td>10</td>\n",
       "      <td>Dotations fonds divers et réserves</td>\n",
       "    </tr>\n",
       "    <tr>\n",
       "      <th>9</th>\n",
       "      <td>11</td>\n",
       "      <td>Report à nouveau - solde créditeur ou débiteur</td>\n",
       "    </tr>\n",
       "  </tbody>\n",
       "</table>\n",
       "</div>"
      ],
      "text/plain": [
       "   COMPTE                                         LIBELLE\n",
       "0       1                             Comptes de capitaux\n",
       "1       2                       Comptes d'immobilisations\n",
       "2       3                   Comptes de stocks et en cours\n",
       "3       4                                Comptes de tiers\n",
       "4       5                              Comptes financiers\n",
       "5       6                              Comptes de charges\n",
       "6       7                             Comptes de produits\n",
       "7       8                                Comptes spéciaux\n",
       "8      10              Dotations fonds divers et réserves\n",
       "9      11  Report à nouveau - solde créditeur ou débiteur"
      ]
     },
     "execution_count": 4,
     "metadata": {},
     "output_type": "execute_result"
    }
   ],
   "source": [
    "comptes_test"
   ]
  },
  {
   "cell_type": "code",
   "execution_count": 5,
   "metadata": {},
   "outputs": [],
   "source": [
    "balances_test = pd.read_sql_query(\"SELECT EXER,LBUDG,SUM(SD),SUM(SC) FROM BALANCES WHERE NOMEN='M14' \\\n",
    "                                   and CAST(COMPTE as TEXT) like '10%'\\\n",
    "                                   GROUP BY EXER,LBUDG\", con)"
   ]
  },
  {
   "cell_type": "code",
   "execution_count": 6,
   "metadata": {},
   "outputs": [],
   "source": [
    "balances_test['TOT'] = balances_test['SUM(SC)'] - balances_test['SUM(SD)']"
   ]
  },
  {
   "cell_type": "code",
   "execution_count": 7,
   "metadata": {},
   "outputs": [
    {
     "data": {
      "text/html": [
       "<div>\n",
       "<style scoped>\n",
       "    .dataframe tbody tr th:only-of-type {\n",
       "        vertical-align: middle;\n",
       "    }\n",
       "\n",
       "    .dataframe tbody tr th {\n",
       "        vertical-align: top;\n",
       "    }\n",
       "\n",
       "    .dataframe thead th {\n",
       "        text-align: right;\n",
       "    }\n",
       "</style>\n",
       "<table border=\"1\" class=\"dataframe\">\n",
       "  <thead>\n",
       "    <tr style=\"text-align: right;\">\n",
       "      <th></th>\n",
       "      <th>EXER</th>\n",
       "      <th>LBUDG</th>\n",
       "      <th>SUM(SD)</th>\n",
       "      <th>SUM(SC)</th>\n",
       "      <th>TOT</th>\n",
       "    </tr>\n",
       "  </thead>\n",
       "  <tbody>\n",
       "    <tr>\n",
       "      <th>18011</th>\n",
       "      <td>2018</td>\n",
       "      <td>MARSEILLE</td>\n",
       "      <td>34942448.27</td>\n",
       "      <td>3.522810e+09</td>\n",
       "      <td>3.487868e+09</td>\n",
       "    </tr>\n",
       "  </tbody>\n",
       "</table>\n",
       "</div>"
      ],
      "text/plain": [
       "       EXER      LBUDG      SUM(SD)       SUM(SC)           TOT\n",
       "18011  2018  MARSEILLE  34942448.27  3.522810e+09  3.487868e+09"
      ]
     },
     "execution_count": 7,
     "metadata": {},
     "output_type": "execute_result"
    }
   ],
   "source": [
    "balances_test[balances_test['TOT'] == balances_test['TOT'].max()]"
   ]
  },
  {
   "cell_type": "code",
   "execution_count": 8,
   "metadata": {},
   "outputs": [
    {
     "data": {
      "text/html": [
       "<div>\n",
       "<style scoped>\n",
       "    .dataframe tbody tr th:only-of-type {\n",
       "        vertical-align: middle;\n",
       "    }\n",
       "\n",
       "    .dataframe tbody tr th {\n",
       "        vertical-align: top;\n",
       "    }\n",
       "\n",
       "    .dataframe thead th {\n",
       "        text-align: right;\n",
       "    }\n",
       "</style>\n",
       "<table border=\"1\" class=\"dataframe\">\n",
       "  <thead>\n",
       "    <tr style=\"text-align: right;\">\n",
       "      <th></th>\n",
       "      <th>EXER</th>\n",
       "      <th>LBUDG</th>\n",
       "      <th>SUM(SD)</th>\n",
       "      <th>SUM(SC)</th>\n",
       "      <th>TOT</th>\n",
       "    </tr>\n",
       "  </thead>\n",
       "  <tbody>\n",
       "    <tr>\n",
       "      <th>16989</th>\n",
       "      <td>2018</td>\n",
       "      <td>LOTS COMMUNAUX SOTTEVAST (ENTREPRISES)</td>\n",
       "      <td>92808.0</td>\n",
       "      <td>0.0</td>\n",
       "      <td>-92808.0</td>\n",
       "    </tr>\n",
       "  </tbody>\n",
       "</table>\n",
       "</div>"
      ],
      "text/plain": [
       "       EXER                                   LBUDG  SUM(SD)  SUM(SC)      TOT\n",
       "16989  2018  LOTS COMMUNAUX SOTTEVAST (ENTREPRISES)  92808.0      0.0 -92808.0"
      ]
     },
     "execution_count": 8,
     "metadata": {},
     "output_type": "execute_result"
    }
   ],
   "source": [
    "balances_test[balances_test['TOT'] == balances_test['TOT'].min()]"
   ]
  },
  {
   "cell_type": "code",
   "execution_count": 9,
   "metadata": {},
   "outputs": [
    {
     "data": {
      "text/plain": [
       "(array([12946.,  6259.,  3320.,  1936.,  1334.,   979.,   700.,   593.,\n",
       "          486.,   383.,   310.,   277.,   251.,   209.,   180.,   165.,\n",
       "          144.,   118.,   123.,    98.,    93.,    82.,    83.,    73.,\n",
       "           75.,    51.,    58.,    47.,    53.,    42.,    41.,    41.,\n",
       "           36.,    26.,    34.,    33.,    23.,    31.,    22.,    23.,\n",
       "           20.,    16.,    23.,    27.,    21.,    16.,    14.,    16.,\n",
       "           17.]),\n",
       " array([       0,  2000000,  4000000,  6000000,  8000000, 10000000,\n",
       "        12000000, 14000000, 16000000, 18000000, 20000000, 22000000,\n",
       "        24000000, 26000000, 28000000, 30000000, 32000000, 34000000,\n",
       "        36000000, 38000000, 40000000, 42000000, 44000000, 46000000,\n",
       "        48000000, 50000000, 52000000, 54000000, 56000000, 58000000,\n",
       "        60000000, 62000000, 64000000, 66000000, 68000000, 70000000,\n",
       "        72000000, 74000000, 76000000, 78000000, 80000000, 82000000,\n",
       "        84000000, 86000000, 88000000, 90000000, 92000000, 94000000,\n",
       "        96000000, 98000000]),\n",
       " <a list of 49 Patch objects>)"
      ]
     },
     "execution_count": 9,
     "metadata": {},
     "output_type": "execute_result"
    },
    {
     "data": {
      "image/png": "[encoded data removed]",
      "text/plain": [
       "<Figure size 432x288 with 1 Axes>"
      ]
     },
     "metadata": {
      "needs_background": "light"
     },
     "output_type": "display_data"
    }
   ],
   "source": [
    "plt.hist(balances_test['TOT'],bins=[i for i in range(0,100000000,2000000)])"
   ]
  }
 ],
 "metadata": {
  "kernelspec": {
   "display_name": "Python 3",
   "language": "python",
   "name": "python3"
  },
  "language_info": {
   "codemirror_mode": {
    "name": "ipython",
    "version": 3
   },
   "file_extension": ".py",
   "mimetype": "text/x-python",
   "name": "python",
   "nbconvert_exporter": "python",
   "pygments_lexer": "ipython3",
   "version": "3.7.5"
  }
 },
 "nbformat": 4,
 "nbformat_minor": 2
}
