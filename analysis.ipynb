{
 "cells": [
  {
   "cell_type": "code",
   "execution_count": 1,
   "metadata": {},
   "outputs": [],
   "source": [
    "import sqlite3\n",
    "import pandas as pd\n",
    "import matplotlib.pyplot as plt\n",
    "import numpy as np"
   ]
  },
  {
   "cell_type": "markdown",
   "metadata": {},
   "source": [
    "# Connection to DB"
   ]
  },
  {
   "cell_type": "code",
   "execution_count": 2,
   "metadata": {},
   "outputs": [],
   "source": [
    "con = sqlite3.connect('communes.db')"
   ]
  },
  {
   "cell_type": "markdown",
   "metadata": {},
   "source": [
    "# SQLs"
   ]
  },
  {
   "cell_type": "code",
   "execution_count": 3,
   "metadata": {},
   "outputs": [],
   "source": [
    "comptes_test = pd.read_sql_query(\"SELECT * FROM COMPTES\", con)"
   ]
  },
  {
   "cell_type": "code",
   "execution_count": 4,
   "metadata": {},
   "outputs": [
    {
     "data": {
      "text/html": [
       "<div>\n",
       "<style scoped>\n",
       "    .dataframe tbody tr th:only-of-type {\n",
       "        vertical-align: middle;\n",
       "    }\n",
       "\n",
       "    .dataframe tbody tr th {\n",
       "        vertical-align: top;\n",
       "    }\n",
       "\n",
       "    .dataframe thead th {\n",
       "        text-align: right;\n",
       "    }\n",
       "</style>\n",
       "<table border=\"1\" class=\"dataframe\">\n",
       "  <thead>\n",
       "    <tr style=\"text-align: right;\">\n",
       "      <th></th>\n",
       "      <th>COMPTE</th>\n",
       "      <th>LIBELLE</th>\n",
       "    </tr>\n",
       "  </thead>\n",
       "  <tbody>\n",
       "    <tr>\n",
       "      <th>0</th>\n",
       "      <td>1</td>\n",
       "      <td>Comptes de capitaux</td>\n",
       "    </tr>\n",
       "    <tr>\n",
       "      <th>1</th>\n",
       "      <td>2</td>\n",
       "      <td>Comptes d'immobilisations</td>\n",
       "    </tr>\n",
       "    <tr>\n",
       "      <th>2</th>\n",
       "      <td>3</td>\n",
       "      <td>Comptes de stocks et en cours</td>\n",
       "    </tr>\n",
       "    <tr>\n",
       "      <th>3</th>\n",
       "      <td>4</td>\n",
       "      <td>Comptes de tiers</td>\n",
       "    </tr>\n",
       "    <tr>\n",
       "      <th>4</th>\n",
       "      <td>5</td>\n",
       "      <td>Comptes financiers</td>\n",
       "    </tr>\n",
       "    <tr>\n",
       "      <th>5</th>\n",
       "      <td>6</td>\n",
       "      <td>Comptes de charges</td>\n",
       "    </tr>\n",
       "    <tr>\n",
       "      <th>6</th>\n",
       "      <td>7</td>\n",
       "      <td>Comptes de produits</td>\n",
       "    </tr>\n",
       "    <tr>\n",
       "      <th>7</th>\n",
       "      <td>8</td>\n",
       "      <td>Comptes spéciaux</td>\n",
       "    </tr>\n",
       "    <tr>\n",
       "      <th>8</th>\n",
       "      <td>10</td>\n",
       "      <td>Dotations fonds divers et réserves</td>\n",
       "    </tr>\n",
       "    <tr>\n",
       "      <th>9</th>\n",
       "      <td>11</td>\n",
       "      <td>Report à nouveau - solde créditeur ou débiteur</td>\n",
       "    </tr>\n",
       "    <tr>\n",
       "      <th>10</th>\n",
       "      <td>12</td>\n",
       "      <td>Résultat de l'exercice excédent ou déficit</td>\n",
       "    </tr>\n",
       "    <tr>\n",
       "      <th>11</th>\n",
       "      <td>13</td>\n",
       "      <td>Subventions d'investissement</td>\n",
       "    </tr>\n",
       "    <tr>\n",
       "      <th>12</th>\n",
       "      <td>15</td>\n",
       "      <td>Provisions pour risques et charges</td>\n",
       "    </tr>\n",
       "    <tr>\n",
       "      <th>13</th>\n",
       "      <td>16</td>\n",
       "      <td>Emprunts et dettes assimilées</td>\n",
       "    </tr>\n",
       "    <tr>\n",
       "      <th>14</th>\n",
       "      <td>18</td>\n",
       "      <td>Compte de liaison : affectation (budgets annexes)</td>\n",
       "    </tr>\n",
       "    <tr>\n",
       "      <th>15</th>\n",
       "      <td>19</td>\n",
       "      <td>Neutralisations et régularisations d'opérations</td>\n",
       "    </tr>\n",
       "    <tr>\n",
       "      <th>16</th>\n",
       "      <td>20</td>\n",
       "      <td>Immobilisations incorporelles</td>\n",
       "    </tr>\n",
       "    <tr>\n",
       "      <th>17</th>\n",
       "      <td>21</td>\n",
       "      <td>Immobilisations corporelles</td>\n",
       "    </tr>\n",
       "    <tr>\n",
       "      <th>18</th>\n",
       "      <td>22</td>\n",
       "      <td>Immobilisations reçues en affectation</td>\n",
       "    </tr>\n",
       "    <tr>\n",
       "      <th>19</th>\n",
       "      <td>23</td>\n",
       "      <td>Immobilisations en cours</td>\n",
       "    </tr>\n",
       "    <tr>\n",
       "      <th>20</th>\n",
       "      <td>24</td>\n",
       "      <td>Immobilisations affectées concédées ou mises a...</td>\n",
       "    </tr>\n",
       "    <tr>\n",
       "      <th>21</th>\n",
       "      <td>26</td>\n",
       "      <td>Participations et créances rattachées à des pa...</td>\n",
       "    </tr>\n",
       "    <tr>\n",
       "      <th>22</th>\n",
       "      <td>27</td>\n",
       "      <td>Autres immobilisations financières</td>\n",
       "    </tr>\n",
       "    <tr>\n",
       "      <th>23</th>\n",
       "      <td>28</td>\n",
       "      <td>Amortissements des immobilisations</td>\n",
       "    </tr>\n",
       "    <tr>\n",
       "      <th>24</th>\n",
       "      <td>29</td>\n",
       "      <td>Provisions pour depreciation des immobilisations</td>\n",
       "    </tr>\n",
       "    <tr>\n",
       "      <th>25</th>\n",
       "      <td>31</td>\n",
       "      <td>Stocks et en-cours matières premières (et four...</td>\n",
       "    </tr>\n",
       "    <tr>\n",
       "      <th>26</th>\n",
       "      <td>32</td>\n",
       "      <td>Autres approvisionnements - fournitures consom...</td>\n",
       "    </tr>\n",
       "    <tr>\n",
       "      <th>27</th>\n",
       "      <td>33</td>\n",
       "      <td>En cours de production de biens</td>\n",
       "    </tr>\n",
       "    <tr>\n",
       "      <th>28</th>\n",
       "      <td>34</td>\n",
       "      <td>En-cours de production de services</td>\n",
       "    </tr>\n",
       "    <tr>\n",
       "      <th>29</th>\n",
       "      <td>35</td>\n",
       "      <td>Stocks de produits</td>\n",
       "    </tr>\n",
       "    <tr>\n",
       "      <th>...</th>\n",
       "      <td>...</td>\n",
       "      <td>...</td>\n",
       "    </tr>\n",
       "    <tr>\n",
       "      <th>1707</th>\n",
       "      <td>7068121</td>\n",
       "      <td>Redevance pour modernisation des réseaux de co...</td>\n",
       "    </tr>\n",
       "    <tr>\n",
       "      <th>1708</th>\n",
       "      <td>7068129</td>\n",
       "      <td>Reversement de la redevance pour modernisation...</td>\n",
       "    </tr>\n",
       "    <tr>\n",
       "      <th>1709</th>\n",
       "      <td>7391171</td>\n",
       "      <td>Dégrèvement de taxe foncière sur les propriété...</td>\n",
       "    </tr>\n",
       "    <tr>\n",
       "      <th>1710</th>\n",
       "      <td>7391172</td>\n",
       "      <td>Dégrèvement de taxe habitation sur les logemen...</td>\n",
       "    </tr>\n",
       "    <tr>\n",
       "      <th>1711</th>\n",
       "      <td>7391173</td>\n",
       "      <td>Dégrèvement au titre du plafonnement de la TP ...</td>\n",
       "    </tr>\n",
       "    <tr>\n",
       "      <th>1712</th>\n",
       "      <td>7391178</td>\n",
       "      <td>Autres restitutions au titre de dégrèvements s...</td>\n",
       "    </tr>\n",
       "    <tr>\n",
       "      <th>1713</th>\n",
       "      <td>28041411</td>\n",
       "      <td>Biens mobiliers matériel et études</td>\n",
       "    </tr>\n",
       "    <tr>\n",
       "      <th>1714</th>\n",
       "      <td>28041412</td>\n",
       "      <td>Bâtiments et installations</td>\n",
       "    </tr>\n",
       "    <tr>\n",
       "      <th>1715</th>\n",
       "      <td>28041413</td>\n",
       "      <td>Projets d'infrastructures d'intérêt national</td>\n",
       "    </tr>\n",
       "    <tr>\n",
       "      <th>1716</th>\n",
       "      <td>28041481</td>\n",
       "      <td>Biens mobiliers matériel et études</td>\n",
       "    </tr>\n",
       "    <tr>\n",
       "      <th>1717</th>\n",
       "      <td>28041482</td>\n",
       "      <td>Bâtiments et installations</td>\n",
       "    </tr>\n",
       "    <tr>\n",
       "      <th>1718</th>\n",
       "      <td>28041483</td>\n",
       "      <td>Projets d'infrastructures d'intérêt national</td>\n",
       "    </tr>\n",
       "    <tr>\n",
       "      <th>1719</th>\n",
       "      <td>28041511</td>\n",
       "      <td>Biens mobiliers matériel et études</td>\n",
       "    </tr>\n",
       "    <tr>\n",
       "      <th>1720</th>\n",
       "      <td>28041512</td>\n",
       "      <td>Bâtiments et installations</td>\n",
       "    </tr>\n",
       "    <tr>\n",
       "      <th>1721</th>\n",
       "      <td>28041513</td>\n",
       "      <td>Projets d'infrastructures d'intérêt national</td>\n",
       "    </tr>\n",
       "    <tr>\n",
       "      <th>1722</th>\n",
       "      <td>28041581</td>\n",
       "      <td>Biens mobiliers matériel et études</td>\n",
       "    </tr>\n",
       "    <tr>\n",
       "      <th>1723</th>\n",
       "      <td>28041582</td>\n",
       "      <td>Bâtiments et installations</td>\n",
       "    </tr>\n",
       "    <tr>\n",
       "      <th>1724</th>\n",
       "      <td>28041583</td>\n",
       "      <td>Projets d'infrastructures d'intérêt national</td>\n",
       "    </tr>\n",
       "    <tr>\n",
       "      <th>1725</th>\n",
       "      <td>28041611</td>\n",
       "      <td>Biens mobiliers matériel et études</td>\n",
       "    </tr>\n",
       "    <tr>\n",
       "      <th>1726</th>\n",
       "      <td>28041612</td>\n",
       "      <td>Bâtiments et installations</td>\n",
       "    </tr>\n",
       "    <tr>\n",
       "      <th>1727</th>\n",
       "      <td>28041613</td>\n",
       "      <td>Projets d'infrastructures d'intérêt national</td>\n",
       "    </tr>\n",
       "    <tr>\n",
       "      <th>1728</th>\n",
       "      <td>28041621</td>\n",
       "      <td>Biens mobiliers matériel et études</td>\n",
       "    </tr>\n",
       "    <tr>\n",
       "      <th>1729</th>\n",
       "      <td>28041622</td>\n",
       "      <td>Bâtiments et installations</td>\n",
       "    </tr>\n",
       "    <tr>\n",
       "      <th>1730</th>\n",
       "      <td>28041623</td>\n",
       "      <td>Projets d'infrastructures d'intérêt national</td>\n",
       "    </tr>\n",
       "    <tr>\n",
       "      <th>1731</th>\n",
       "      <td>28041631</td>\n",
       "      <td>Biens mobiliers matériel et études</td>\n",
       "    </tr>\n",
       "    <tr>\n",
       "      <th>1732</th>\n",
       "      <td>28041632</td>\n",
       "      <td>Bâtiments et installations</td>\n",
       "    </tr>\n",
       "    <tr>\n",
       "      <th>1733</th>\n",
       "      <td>28041633</td>\n",
       "      <td>Projets d'infrastructures d'intérêt national</td>\n",
       "    </tr>\n",
       "    <tr>\n",
       "      <th>1734</th>\n",
       "      <td>28041641</td>\n",
       "      <td>Biens mobiliers matériel et études</td>\n",
       "    </tr>\n",
       "    <tr>\n",
       "      <th>1735</th>\n",
       "      <td>28041642</td>\n",
       "      <td>Bâtiments et installations</td>\n",
       "    </tr>\n",
       "    <tr>\n",
       "      <th>1736</th>\n",
       "      <td>28041643</td>\n",
       "      <td>Projets d'infrastructures d'intérêt national</td>\n",
       "    </tr>\n",
       "  </tbody>\n",
       "</table>\n",
       "<p>1737 rows × 2 columns</p>\n",
       "</div>"
      ],
      "text/plain": [
       "        COMPTE                                            LIBELLE\n",
       "0            1                                Comptes de capitaux\n",
       "1            2                          Comptes d'immobilisations\n",
       "2            3                      Comptes de stocks et en cours\n",
       "3            4                                   Comptes de tiers\n",
       "4            5                                 Comptes financiers\n",
       "5            6                                 Comptes de charges\n",
       "6            7                                Comptes de produits\n",
       "7            8                                   Comptes spéciaux\n",
       "8           10                 Dotations fonds divers et réserves\n",
       "9           11     Report à nouveau - solde créditeur ou débiteur\n",
       "10          12         Résultat de l'exercice excédent ou déficit\n",
       "11          13                       Subventions d'investissement\n",
       "12          15                 Provisions pour risques et charges\n",
       "13          16                      Emprunts et dettes assimilées\n",
       "14          18  Compte de liaison : affectation (budgets annexes)\n",
       "15          19    Neutralisations et régularisations d'opérations\n",
       "16          20                      Immobilisations incorporelles\n",
       "17          21                        Immobilisations corporelles\n",
       "18          22              Immobilisations reçues en affectation\n",
       "19          23                           Immobilisations en cours\n",
       "20          24  Immobilisations affectées concédées ou mises a...\n",
       "21          26  Participations et créances rattachées à des pa...\n",
       "22          27                 Autres immobilisations financières\n",
       "23          28                 Amortissements des immobilisations\n",
       "24          29   Provisions pour depreciation des immobilisations\n",
       "25          31  Stocks et en-cours matières premières (et four...\n",
       "26          32  Autres approvisionnements - fournitures consom...\n",
       "27          33                    En cours de production de biens\n",
       "28          34                 En-cours de production de services\n",
       "29          35                                 Stocks de produits\n",
       "...        ...                                                ...\n",
       "1707   7068121  Redevance pour modernisation des réseaux de co...\n",
       "1708   7068129  Reversement de la redevance pour modernisation...\n",
       "1709   7391171  Dégrèvement de taxe foncière sur les propriété...\n",
       "1710   7391172  Dégrèvement de taxe habitation sur les logemen...\n",
       "1711   7391173  Dégrèvement au titre du plafonnement de la TP ...\n",
       "1712   7391178  Autres restitutions au titre de dégrèvements s...\n",
       "1713  28041411                 Biens mobiliers matériel et études\n",
       "1714  28041412                         Bâtiments et installations\n",
       "1715  28041413       Projets d'infrastructures d'intérêt national\n",
       "1716  28041481                 Biens mobiliers matériel et études\n",
       "1717  28041482                         Bâtiments et installations\n",
       "1718  28041483       Projets d'infrastructures d'intérêt national\n",
       "1719  28041511                 Biens mobiliers matériel et études\n",
       "1720  28041512                         Bâtiments et installations\n",
       "1721  28041513       Projets d'infrastructures d'intérêt national\n",
       "1722  28041581                 Biens mobiliers matériel et études\n",
       "1723  28041582                         Bâtiments et installations\n",
       "1724  28041583       Projets d'infrastructures d'intérêt national\n",
       "1725  28041611                 Biens mobiliers matériel et études\n",
       "1726  28041612                         Bâtiments et installations\n",
       "1727  28041613       Projets d'infrastructures d'intérêt national\n",
       "1728  28041621                 Biens mobiliers matériel et études\n",
       "1729  28041622                         Bâtiments et installations\n",
       "1730  28041623       Projets d'infrastructures d'intérêt national\n",
       "1731  28041631                 Biens mobiliers matériel et études\n",
       "1732  28041632                         Bâtiments et installations\n",
       "1733  28041633       Projets d'infrastructures d'intérêt national\n",
       "1734  28041641                 Biens mobiliers matériel et études\n",
       "1735  28041642                         Bâtiments et installations\n",
       "1736  28041643       Projets d'infrastructures d'intérêt national\n",
       "\n",
       "[1737 rows x 2 columns]"
      ]
     },
     "execution_count": 4,
     "metadata": {},
     "output_type": "execute_result"
    }
   ],
   "source": [
    "comptes_test"
   ]
  },
  {
   "cell_type": "code",
   "execution_count": 5,
   "metadata": {},
   "outputs": [],
   "source": [
    "balances_test = pd.read_sql_query(\"SELECT EXER,LBUDG,SUM(SD),SUM(SC) FROM BALANCES WHERE NOMEN='M14' \\\n",
    "                                   and CAST(COMPTE as TEXT) like '10%'\\\n",
    "                                   GROUP BY EXER,LBUDG\", con)"
   ]
  },
  {
   "cell_type": "code",
   "execution_count": 6,
   "metadata": {},
   "outputs": [],
   "source": [
    "balances_test['TOT'] = balances_test['SUM(SC)'] - balances_test['SUM(SD)']"
   ]
  },
  {
   "cell_type": "code",
   "execution_count": 7,
   "metadata": {},
   "outputs": [
    {
     "data": {
      "text/html": [
       "<div>\n",
       "<style scoped>\n",
       "    .dataframe tbody tr th:only-of-type {\n",
       "        vertical-align: middle;\n",
       "    }\n",
       "\n",
       "    .dataframe tbody tr th {\n",
       "        vertical-align: top;\n",
       "    }\n",
       "\n",
       "    .dataframe thead th {\n",
       "        text-align: right;\n",
       "    }\n",
       "</style>\n",
       "<table border=\"1\" class=\"dataframe\">\n",
       "  <thead>\n",
       "    <tr style=\"text-align: right;\">\n",
       "      <th></th>\n",
       "      <th>EXER</th>\n",
       "      <th>LBUDG</th>\n",
       "      <th>SUM(SD)</th>\n",
       "      <th>SUM(SC)</th>\n",
       "      <th>TOT</th>\n",
       "    </tr>\n",
       "  </thead>\n",
       "  <tbody>\n",
       "    <tr>\n",
       "      <th>18011</th>\n",
       "      <td>2018</td>\n",
       "      <td>MARSEILLE</td>\n",
       "      <td>34942448.27</td>\n",
       "      <td>3.522810e+09</td>\n",
       "      <td>3.487868e+09</td>\n",
       "    </tr>\n",
       "  </tbody>\n",
       "</table>\n",
       "</div>"
      ],
      "text/plain": [
       "       EXER      LBUDG      SUM(SD)       SUM(SC)           TOT\n",
       "18011  2018  MARSEILLE  34942448.27  3.522810e+09  3.487868e+09"
      ]
     },
     "execution_count": 7,
     "metadata": {},
     "output_type": "execute_result"
    }
   ],
   "source": [
    "balances_test[balances_test['TOT'] == balances_test['TOT'].max()]"
   ]
  },
  {
   "cell_type": "code",
   "execution_count": 8,
   "metadata": {},
   "outputs": [
    {
     "data": {
      "text/html": [
       "<div>\n",
       "<style scoped>\n",
       "    .dataframe tbody tr th:only-of-type {\n",
       "        vertical-align: middle;\n",
       "    }\n",
       "\n",
       "    .dataframe tbody tr th {\n",
       "        vertical-align: top;\n",
       "    }\n",
       "\n",
       "    .dataframe thead th {\n",
       "        text-align: right;\n",
       "    }\n",
       "</style>\n",
       "<table border=\"1\" class=\"dataframe\">\n",
       "  <thead>\n",
       "    <tr style=\"text-align: right;\">\n",
       "      <th></th>\n",
       "      <th>EXER</th>\n",
       "      <th>LBUDG</th>\n",
       "      <th>SUM(SD)</th>\n",
       "      <th>SUM(SC)</th>\n",
       "      <th>TOT</th>\n",
       "    </tr>\n",
       "  </thead>\n",
       "  <tbody>\n",
       "    <tr>\n",
       "      <th>16989</th>\n",
       "      <td>2018</td>\n",
       "      <td>LOTS COMMUNAUX SOTTEVAST (ENTREPRISES)</td>\n",
       "      <td>92808.0</td>\n",
       "      <td>0.0</td>\n",
       "      <td>-92808.0</td>\n",
       "    </tr>\n",
       "  </tbody>\n",
       "</table>\n",
       "</div>"
      ],
      "text/plain": [
       "       EXER                                   LBUDG  SUM(SD)  SUM(SC)      TOT\n",
       "16989  2018  LOTS COMMUNAUX SOTTEVAST (ENTREPRISES)  92808.0      0.0 -92808.0"
      ]
     },
     "execution_count": 8,
     "metadata": {},
     "output_type": "execute_result"
    }
   ],
   "source": [
    "balances_test[balances_test['TOT'] == balances_test['TOT'].min()]"
   ]
  },
  {
   "cell_type": "code",
   "execution_count": 9,
   "metadata": {},
   "outputs": [
    {
     "data": {
      "text/plain": [
       "(array([12946.,  6259.,  3320.,  1936.,  1334.,   979.,   700.,   593.,\n",
       "          486.,   383.,   310.,   277.,   251.,   209.,   180.,   165.,\n",
       "          144.,   118.,   123.,    98.,    93.,    82.,    83.,    73.,\n",
       "           75.,    51.,    58.,    47.,    53.,    42.,    41.,    41.,\n",
       "           36.,    26.,    34.,    33.,    23.,    31.,    22.,    23.,\n",
       "           20.,    16.,    23.,    27.,    21.,    16.,    14.,    16.,\n",
       "           17.]),\n",
       " array([       0,  2000000,  4000000,  6000000,  8000000, 10000000,\n",
       "        12000000, 14000000, 16000000, 18000000, 20000000, 22000000,\n",
       "        24000000, 26000000, 28000000, 30000000, 32000000, 34000000,\n",
       "        36000000, 38000000, 40000000, 42000000, 44000000, 46000000,\n",
       "        48000000, 50000000, 52000000, 54000000, 56000000, 58000000,\n",
       "        60000000, 62000000, 64000000, 66000000, 68000000, 70000000,\n",
       "        72000000, 74000000, 76000000, 78000000, 80000000, 82000000,\n",
       "        84000000, 86000000, 88000000, 90000000, 92000000, 94000000,\n",
       "        96000000, 98000000]),\n",
       " <a list of 49 Patch objects>)"
      ]
     },
     "execution_count": 9,
     "metadata": {},
     "output_type": "execute_result"
    },
    {
     "data": {
      "image/png": "[encoded data removed]",
      "text/plain": [
       "<Figure size 432x288 with 1 Axes>"
      ]
     },
     "metadata": {
      "needs_background": "light"
     },
     "output_type": "display_data"
    }
   ],
   "source": [
    "plt.hist(balances_test['TOT'],bins=[i for i in range(0,100000000,2000000)])"
   ]
  },
  {
   "cell_type": "markdown",
   "metadata": {},
   "source": [
    "## 2 digits accounts"
   ]
  },
  {
   "cell_type": "code",
   "execution_count": 61,
   "metadata": {},
   "outputs": [],
   "source": [
    "df = pd.read_sql_query(\"SELECT EXER,LBUDG,SUBSTR(COMPTE,1,2) as COMPTE,SUM(SC) - SUM(SD) AS TOT FROM BALANCES WHERE NOMEN='M14' \\\n",
    "                                   GROUP BY EXER,LBUDG,COMPTE\", con)"
   ]
  },
  {
   "cell_type": "code",
   "execution_count": 62,
   "metadata": {},
   "outputs": [
    {
     "data": {
      "text/html": [
       "<div>\n",
       "<style scoped>\n",
       "    .dataframe tbody tr th:only-of-type {\n",
       "        vertical-align: middle;\n",
       "    }\n",
       "\n",
       "    .dataframe tbody tr th {\n",
       "        vertical-align: top;\n",
       "    }\n",
       "\n",
       "    .dataframe thead th {\n",
       "        text-align: right;\n",
       "    }\n",
       "</style>\n",
       "<table border=\"1\" class=\"dataframe\">\n",
       "  <thead>\n",
       "    <tr style=\"text-align: right;\">\n",
       "      <th></th>\n",
       "      <th>EXER</th>\n",
       "      <th>LBUDG</th>\n",
       "      <th>COMPTE</th>\n",
       "      <th>TOT</th>\n",
       "    </tr>\n",
       "  </thead>\n",
       "  <tbody>\n",
       "    <tr>\n",
       "      <th>0</th>\n",
       "      <td>2018</td>\n",
       "      <td>13 LOGTS SOCIAUX CENTRE - BAVANS</td>\n",
       "      <td>12</td>\n",
       "      <td>0.00</td>\n",
       "    </tr>\n",
       "    <tr>\n",
       "      <th>1</th>\n",
       "      <td>2018</td>\n",
       "      <td>13 LOGTS SOCIAUX CENTRE - BAVANS</td>\n",
       "      <td>11</td>\n",
       "      <td>4420.44</td>\n",
       "    </tr>\n",
       "    <tr>\n",
       "      <th>2</th>\n",
       "      <td>2018</td>\n",
       "      <td>13 LOGTS SOCIAUX CENTRE - BAVANS</td>\n",
       "      <td>16</td>\n",
       "      <td>4327.87</td>\n",
       "    </tr>\n",
       "    <tr>\n",
       "      <th>3</th>\n",
       "      <td>2018</td>\n",
       "      <td>13 LOGTS SOCIAUX CENTRE - BAVANS</td>\n",
       "      <td>44</td>\n",
       "      <td>0.00</td>\n",
       "    </tr>\n",
       "    <tr>\n",
       "      <th>4</th>\n",
       "      <td>2018</td>\n",
       "      <td>13 LOGTS SOCIAUX CENTRE - BAVANS</td>\n",
       "      <td>46</td>\n",
       "      <td>0.00</td>\n",
       "    </tr>\n",
       "  </tbody>\n",
       "</table>\n",
       "</div>"
      ],
      "text/plain": [
       "   EXER                             LBUDG COMPTE      TOT\n",
       "0  2018  13 LOGTS SOCIAUX CENTRE - BAVANS     12     0.00\n",
       "1  2018  13 LOGTS SOCIAUX CENTRE - BAVANS     11  4420.44\n",
       "2  2018  13 LOGTS SOCIAUX CENTRE - BAVANS     16  4327.87\n",
       "3  2018  13 LOGTS SOCIAUX CENTRE - BAVANS     44     0.00\n",
       "4  2018  13 LOGTS SOCIAUX CENTRE - BAVANS     46     0.00"
      ]
     },
     "execution_count": 62,
     "metadata": {},
     "output_type": "execute_result"
    }
   ],
   "source": [
    "df.head()"
   ]
  },
  {
   "cell_type": "code",
   "execution_count": 63,
   "metadata": {},
   "outputs": [
    {
     "data": {
      "text/plain": [
       "EXER       object\n",
       "LBUDG      object\n",
       "COMPTE     object\n",
       "TOT       float64\n",
       "dtype: object"
      ]
     },
     "execution_count": 63,
     "metadata": {},
     "output_type": "execute_result"
    }
   ],
   "source": [
    "df.dtypes"
   ]
  },
  {
   "cell_type": "code",
   "execution_count": 64,
   "metadata": {},
   "outputs": [
    {
     "data": {
      "text/plain": [
       "COMPTE      int64\n",
       "LIBELLE    object\n",
       "dtype: object"
      ]
     },
     "execution_count": 64,
     "metadata": {},
     "output_type": "execute_result"
    }
   ],
   "source": [
    "comptes_test.dtypes"
   ]
  },
  {
   "cell_type": "code",
   "execution_count": 65,
   "metadata": {},
   "outputs": [],
   "source": [
    "df['COMPTE'] = df['COMPTE'].astype(int)"
   ]
  },
  {
   "cell_type": "code",
   "execution_count": 66,
   "metadata": {},
   "outputs": [
    {
     "data": {
      "text/plain": [
       "EXER       object\n",
       "LBUDG      object\n",
       "COMPTE      int64\n",
       "TOT       float64\n",
       "dtype: object"
      ]
     },
     "execution_count": 66,
     "metadata": {},
     "output_type": "execute_result"
    }
   ],
   "source": [
    "df.dtypes"
   ]
  },
  {
   "cell_type": "code",
   "execution_count": 67,
   "metadata": {},
   "outputs": [],
   "source": [
    "df = pd.merge(df, comptes_test)"
   ]
  },
  {
   "cell_type": "code",
   "execution_count": 68,
   "metadata": {},
   "outputs": [],
   "source": [
    "df = df.pivot_table(values='TOT', index='LBUDG', columns='LIBELLE', aggfunc=np.sum).reset_index()"
   ]
  },
  {
   "cell_type": "code",
   "execution_count": 69,
   "metadata": {},
   "outputs": [
    {
     "name": "stdout",
     "output_type": "stream",
     "text": [
      "LBUDG 0.0\n",
      "Achats et variation des stocks 0.13819407486251553\n",
      "Amortissements des immobilisations 0.415443878456119\n",
      "Autres approvisionnements - fournitures consommables 0.9970602397425176\n",
      "Autres charges de gestion courante 0.21706074659773436\n",
      "Autres immobilisations financières 0.4442585975316151\n",
      "Autres produits de gestion courante 0.19288375275602523\n",
      "Autres services extérieurs 0.20238728807116246\n",
      "Avances de trésorerie versées 0.99376568083327\n",
      "Charges de personnel 0.27818748574469704\n",
      "Charges exceptionnelles 0.5137737905167389\n",
      "Charges financières 0.2593831572011455\n",
      "Comptabilité distincte rattachée 0.19412554803720317\n",
      "Compte de liaison : affectation (budgets annexes) 0.6896272079880382\n",
      "Comptes de régularisation 0.9582097873742366\n",
      "Comptes transitoires ou d attente 0.04526217086089358\n",
      "Dotations aux Amortissements et aux provisions 0.48835500139385185\n",
      "Dotations et participations 0.2489672824957551\n",
      "Dotations fonds divers et réserves 0.17529587673281127\n",
      "Débiteurs et créditeurs divers 0.15289287614992778\n",
      "Dépréciations des stocks et en cours 0.9996958868699156\n",
      "Emprunts et dettes assimilées 0.16414506196305026\n",
      "En cours de production de biens 0.9343875921842926\n",
      "En-cours de production de services 0.9998986289566385\n",
      "Fournisseurs et comptes rattaches 0.08814212220279277\n",
      "Immobilisations affectées concédées ou mises a disposition 0.5226690995717074\n",
      "Immobilisations corporelles 0.1772219265566791\n",
      "Immobilisations en cours 0.4628348412276033\n",
      "Immobilisations incorporelles 0.2800121645252034\n",
      "Immobilisations reçues en affectation 0.9698167718391242\n",
      "Impôts et taxes 0.2835094655211739\n",
      "Impôts taxes et versements assimiles 0.2339897108390988\n",
      "Neutralisations et régularisations d'opérations 0.28262246889176107\n",
      "Participations et créances rattachées à des participations 0.6570364175473276\n",
      "Personnel et comptes rattaches 0.27988545072100157\n",
      "Production immobilisée 0.8915329836032337\n",
      "Production stockée (ou déstockage) 0.8912288704731494\n",
      "Produits des services du domaine et ventes diverses 0.1645505461364961\n",
      "Produits exceptionnels 0.30652069236422613\n",
      "Produits financiers 0.5658024785220102\n",
      "Provisions pour depreciation des comptes de tiers 0.9695886869915609\n",
      "Provisions pour depreciation des comptes financiers 0.9999493144783193\n",
      "Provisions pour depreciation des immobilisations 0.9986568336754607\n",
      "Provisions pour risques et charges 0.9615043462834841\n",
      "Redevables et comptes rattaches 0.13076864593628829\n",
      "Report à nouveau - solde créditeur ou débiteur 0.058516434780404976\n",
      "Reprises sur amortissements et provisions 0.9717935071846727\n",
      "Régies d'avances et accréditifs 0.7456600522060873\n",
      "Résultat de l'exercice excédent ou déficit 0.09024557135254314\n",
      "Services extérieurs 0.1943282901239261\n",
      "Stocks de marchandises et de terrains nus 0.9986061481537799\n",
      "Stocks de produits 0.9053701310220735\n",
      "Stocks et en-cours matières premières (et fournitures) 0.9972883245900809\n",
      "Subventions d'investissement 0.19415089079804354\n",
      "Sécurité sociale et autres organismes sociaux 0.2744874426620036\n",
      "Transferts de charges 0.9708811677944196\n",
      "Trésor établissements financiers et assimiles 0.260802351808206\n",
      "Valeurs mobilières de placement 0.998124635697813\n",
      "Virements internes 0.14559416102790237\n",
      "État et autres collectivités publiques 0.03223599178894549\n"
     ]
    }
   ],
   "source": [
    "for col in df.columns:\n",
    "    print(col, sum(df[col].isna())/df.shape[0])"
   ]
  },
  {
   "cell_type": "code",
   "execution_count": 70,
   "metadata": {},
   "outputs": [],
   "source": [
    "df = df[df['Dotations fonds divers et réserves'].isna() == False]\n",
    "df_no_funds = df[df['Dotations fonds divers et réserves'].isna() == True]"
   ]
  },
  {
   "cell_type": "code",
   "execution_count": 71,
   "metadata": {},
   "outputs": [],
   "source": [
    "df = df.fillna(0)"
   ]
  },
  {
   "cell_type": "code",
   "execution_count": 72,
   "metadata": {},
   "outputs": [],
   "source": [
    "for col in list(df.columns.drop('LBUDG','Dotations fonds divers et réserves')):\n",
    "    df['%s / Dotations fonds divers et réserves ratio' % col] = df[col] / df['Dotations fonds divers et réserves']"
   ]
  },
  {
   "cell_type": "code",
   "execution_count": 76,
   "metadata": {},
   "outputs": [],
   "source": [
    "df = df.filter(like='ratio')"
   ]
  },
  {
   "cell_type": "code",
   "execution_count": 82,
   "metadata": {},
   "outputs": [
    {
     "name": "stderr",
     "output_type": "stream",
     "text": [
      "/usr/local/lib/python3.7/site-packages/pandas/core/frame.py:3940: SettingWithCopyWarning: \n",
      "A value is trying to be set on a copy of a slice from a DataFrame\n",
      "\n",
      "See the caveats in the documentation: http://pandas.pydata.org/pandas-docs/stable/indexing.html#indexing-view-versus-copy\n",
      "  errors=errors)\n"
     ]
    }
   ],
   "source": [
    "for col in df:\n",
    "    if len(list(df[col].unique())) <= 100:\n",
    "        df.drop(columns=[col], inplace=True)"
   ]
  },
  {
   "cell_type": "code",
   "execution_count": 84,
   "metadata": {},
   "outputs": [
    {
     "name": "stdout",
     "output_type": "stream",
     "text": [
      "Neutralisations et régularisations d'opérations 28180\n",
      "Achats et variation des stocks / Dotations fonds divers et réserves ratio 30109\n",
      "Amortissements des immobilisations / Dotations fonds divers et réserves ratio 21838\n",
      "Autres approvisionnements - fournitures consommables / Dotations fonds divers et réserves ratio 112\n",
      "Autres charges de gestion courante / Dotations fonds divers et réserves ratio 29616\n",
      "Autres immobilisations financières / Dotations fonds divers et réserves ratio 21687\n",
      "Autres produits de gestion courante / Dotations fonds divers et réserves ratio 30366\n",
      "Autres services extérieurs / Dotations fonds divers et réserves ratio 30382\n",
      "Avances de trésorerie versées / Dotations fonds divers et réserves ratio 180\n",
      "Charges de personnel / Dotations fonds divers et réserves ratio 28252\n",
      "Charges exceptionnelles / Dotations fonds divers et réserves ratio 18882\n",
      "Charges financières / Dotations fonds divers et réserves ratio 27515\n",
      "Comptabilité distincte rattachée / Dotations fonds divers et réserves ratio 23571\n",
      "Compte de liaison : affectation (budgets annexes) / Dotations fonds divers et réserves ratio 11090\n",
      "Comptes de régularisation / Dotations fonds divers et réserves ratio 1478\n",
      "Comptes transitoires ou d attente / Dotations fonds divers et réserves ratio 22064\n",
      "Dotations aux Amortissements et aux provisions / Dotations fonds divers et réserves ratio 20088\n",
      "Dotations et participations / Dotations fonds divers et réserves ratio 28947\n",
      "Débiteurs et créditeurs divers / Dotations fonds divers et réserves ratio 22775\n",
      "Emprunts et dettes assimilées / Dotations fonds divers et réserves ratio 29617\n",
      "En cours de production de biens / Dotations fonds divers et réserves ratio 228\n",
      "Fournisseurs et comptes rattaches / Dotations fonds divers et réserves ratio 23876\n",
      "Immobilisations affectées concédées ou mises a disposition / Dotations fonds divers et réserves ratio 18644\n",
      "Immobilisations corporelles / Dotations fonds divers et réserves ratio 31902\n",
      "Immobilisations en cours / Dotations fonds divers et réserves ratio 18037\n",
      "Immobilisations incorporelles / Dotations fonds divers et réserves ratio 28020\n",
      "Immobilisations reçues en affectation / Dotations fonds divers et réserves ratio 1036\n",
      "Impôts et taxes / Dotations fonds divers et réserves ratio 28220\n",
      "Impôts taxes et versements assimiles / Dotations fonds divers et réserves ratio 29689\n",
      "Neutralisations et régularisations d'opérations / Dotations fonds divers et réserves ratio 28238\n",
      "Participations et créances rattachées à des participations / Dotations fonds divers et réserves ratio 13418\n",
      "Personnel et comptes rattaches / Dotations fonds divers et réserves ratio 2578\n",
      "Production immobilisée / Dotations fonds divers et réserves ratio 4269\n",
      "Production stockée (ou déstockage) / Dotations fonds divers et réserves ratio 267\n",
      "Produits des services du domaine et ventes diverses / Dotations fonds divers et réserves ratio 30190\n",
      "Produits exceptionnels / Dotations fonds divers et réserves ratio 26481\n",
      "Produits financiers / Dotations fonds divers et réserves ratio 17103\n",
      "Provisions pour depreciation des comptes de tiers / Dotations fonds divers et réserves ratio 1073\n",
      "Provisions pour risques et charges / Dotations fonds divers et réserves ratio 1326\n",
      "Redevables et comptes rattaches / Dotations fonds divers et réserves ratio 30200\n",
      "Report à nouveau - solde créditeur ou débiteur / Dotations fonds divers et réserves ratio 29674\n",
      "Reprises sur amortissements et provisions / Dotations fonds divers et réserves ratio 1109\n",
      "Régies d'avances et accréditifs / Dotations fonds divers et réserves ratio 8200\n",
      "Services extérieurs / Dotations fonds divers et réserves ratio 31071\n",
      "Stocks de produits / Dotations fonds divers et réserves ratio 344\n",
      "Subventions d'investissement / Dotations fonds divers et réserves ratio 31257\n",
      "Sécurité sociale et autres organismes sociaux / Dotations fonds divers et réserves ratio 4744\n",
      "Transferts de charges / Dotations fonds divers et réserves ratio 195\n",
      "Trésor établissements financiers et assimiles / Dotations fonds divers et réserves ratio 28337\n",
      "Virements internes / Dotations fonds divers et réserves ratio 1953\n",
      "État et autres collectivités publiques / Dotations fonds divers et réserves ratio 23792\n"
     ]
    }
   ],
   "source": [
    "for col in df:\n",
    "    print(col, len(list(df[col].unique())))"
   ]
  },
  {
   "cell_type": "markdown",
   "metadata": {},
   "source": [
    "# Model - Clustering"
   ]
  },
  {
   "cell_type": "code",
   "execution_count": null,
   "metadata": {},
   "outputs": [],
   "source": []
  }
 ],
 "metadata": {
  "kernelspec": {
   "display_name": "Python 3",
   "language": "python",
   "name": "python3"
  },
  "language_info": {
   "codemirror_mode": {
    "name": "ipython",
    "version": 3
   },
   "file_extension": ".py",
   "mimetype": "text/x-python",
   "name": "python",
   "nbconvert_exporter": "python",
   "pygments_lexer": "ipython3",
   "version": "3.7.5"
  }
 },
 "nbformat": 4,
 "nbformat_minor": 2
}
